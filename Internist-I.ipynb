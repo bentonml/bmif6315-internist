{
 "cells": [
  {
   "cell_type": "code",
   "execution_count": 1,
   "metadata": {
    "collapsed": true
   },
   "outputs": [],
   "source": [
    "import numpy  as np"
   ]
  },
  {
   "cell_type": "code",
   "execution_count": 35,
   "metadata": {
    "collapsed": true
   },
   "outputs": [],
   "source": [
    "class Disease():\n",
    "    def __init__(self, idx=-1, name=''):\n",
    "        self.idx  = idx   # disease number\n",
    "        self.name = name  # disease name\n",
    "        self.mx   = []    # assoc. manifestations\n",
    "        self.link = []    # linked diseases\n",
    "        \n",
    "    def __str__(self):\n",
    "        return '{}: {} | # mx = {}, # link = {}'.format(self.idx, self.name,\n",
    "                                                    len(self.mx), len(self.link))\n",
    "    # get functions\n",
    "    def get_idx(self):   return self.idx\n",
    "    def get_name(self):  return self.name\n",
    "    def get_mxs(self):   return self.mx\n",
    "    def get_links(self): return self.link\n",
    "    \n",
    "    def print_mxs(self):\n",
    "        for mx in self.mx:\n",
    "            print(mx)\n",
    "    \n",
    "    # add functions\n",
    "    def add_mx(self, new_mx):\n",
    "        self.mx.append(new_mx)\n",
    "        \n",
    "    def add_link(self, new_link):\n",
    "        self.link.append(new_link)\n",
    "        \n",
    "    # is_in functions\n",
    "    def has_manifestation(self, m):\n",
    "        return True if m in self.mx else False\n",
    "    \n",
    "    def has_link(self, l):\n",
    "        return True if l in self.link else False \n",
    "    \n",
    "    "
   ]
  },
  {
   "cell_type": "code",
   "execution_count": 36,
   "metadata": {
    "collapsed": true
   },
   "outputs": [],
   "source": [
    "class Manifestation():\n",
    "    def __init__(self, idx=-1, name='', es=-1, fq=-1, im=-1):\n",
    "        self.idx  = idx   # mx number\n",
    "        self.name = name  # mx name\n",
    "        self.es   = es    # evoking strength\n",
    "        self.fq   = fq    # frequency\n",
    "        self.im   = im    # import\n",
    "        \n",
    "    def __eq__(self, other):\n",
    "        return self.idx == other.idx\n",
    "    \n",
    "    def __ne__(self, other):\n",
    "        return not self == other\n",
    "    \n",
    "    def __str__(self):\n",
    "        return '{}: {} | es = {}, fq = {}, im = {}'.format(self.idx, self.name,\n",
    "                                                             self.es, self.fq, self.im)\n",
    "        \n",
    "    # nonlinear transformations\n",
    "    def trans_es(self):\n",
    "        trans = {0: 1, 1: 4, 2: 10, 3: 20, 4: 40, 5: 80}\n",
    "        return trans[self.es]\n",
    "\n",
    "    def trans_fq(self):\n",
    "        trans = {1: -1, 2: -4, 3: -7, 4: -15, 5: -30}\n",
    "        return trans[self.fq]\n",
    "\n",
    "    def trans_im(self):\n",
    "        trans = {1: -2, 2: -6, 3: -10, 4: -20, 5: -40}\n",
    "        return trans[self.im]\n",
    "        \n",
    "    # get functions\n",
    "    def get_idx(self):  return self.idx\n",
    "    def get_name(self): return self.name\n",
    "    def get_es(self):   return self.es\n",
    "    def get_fq(self):   return self.fq\n",
    "    def get_im(self):   return self.im\n",
    "    \n",
    "    def get_trans_es(self):   return trans_es(self.es)\n",
    "    def get_trans_fq(self):   return trans_fq(self.fq)\n",
    "    def get_trans_im(self):   return trans_im(self.im)\n",
    "    \n",
    "    # set functions\n",
    "    def set_es(self, new_es):\n",
    "        self.es = new_es\n",
    "    def set_fq(self, new_fq):\n",
    "        self.fq = new_fq\n",
    "    def set_im(self, new_im):\n",
    "        self.im = new_im"
   ]
  },
  {
   "cell_type": "code",
   "execution_count": 37,
   "metadata": {},
   "outputs": [],
   "source": [
    "class Patient():\n",
    "    def __init__(self, pos=None, neg=None):\n",
    "        self.positive = pos  # + findings\n",
    "        self.negative = neg  # - findings\n",
    "\n",
    "    # get functions\n",
    "    def get_positives(self): return self.positive\n",
    "    def get_negatives(self): return self.negative\n",
    "    \n",
    "    # add functions\n",
    "    def add_positive(self, new_pos):\n",
    "        self.positive.append(new_pos)\n",
    "        \n",
    "    def add_negative(self, new_neg):\n",
    "        self.negative.append(new_neg)"
   ]
  },
  {
   "cell_type": "code",
   "execution_count": 38,
   "metadata": {
    "collapsed": true
   },
   "outputs": [],
   "source": [
    "def parse_disease(line):\n",
    "    return line[1], ' '.join(line[2:])\n",
    "\n",
    "def parse_manifestation(line):\n",
    "    return line[2], ' '.join(line[3:]), line[1][0], line[1][1]\n",
    "\n",
    "def parse_link(line):\n",
    "    return line[3], ' '.join(line[4:])\n",
    "\n",
    "def parse_even(line):\n",
    "    return line[1], ' '.join(line[2:])\n",
    "\n",
    "def parse_odd(line):\n",
    "    return line[0], line[2]"
   ]
  },
  {
   "cell_type": "code",
   "execution_count": 39,
   "metadata": {
    "collapsed": true
   },
   "outputs": [],
   "source": [
    "FINDINGS = {}\n",
    "DISEASES = {}"
   ]
  },
  {
   "cell_type": "code",
   "execution_count": 40,
   "metadata": {
    "collapsed": true
   },
   "outputs": [],
   "source": [
    "# build master manifestations list from findings file (#, NAME, IM)\n",
    "with open('./data/findings.txt', 'r') as fd_file:\n",
    "    for i, line in enumerate(fd_file):\n",
    "        line = line.strip('\\n').split()\n",
    "        if i % 2:\n",
    "            idx, imp = parse_odd(line)\n",
    "            FINDINGS[idx].set_im(imp)\n",
    "        else:\n",
    "            idx, name = parse_even(line)\n",
    "            FINDINGS[idx] = Manifestation(idx, name)"
   ]
  },
  {
   "cell_type": "code",
   "execution_count": 41,
   "metadata": {},
   "outputs": [],
   "source": [
    "# build set of diseases (#, NAME, MX, LINKS) and update manifestations (ES and FQ)\n",
    "with open('./data/diseases.txt', 'r') as dz_file:\n",
    "    for line in dz_file:\n",
    "        if line != '\\n':\n",
    "            line = line.strip('\\n').split()\n",
    "            if line[0] == 'DX':\n",
    "                dz_idx, name = parse_disease(line)\n",
    "                DISEASES[dz_idx] = Disease(dz_idx, name)\n",
    "            elif line[0] == 'MX':\n",
    "                idx, name, es, fq = parse_manifestation(line)\n",
    "                DISEASES[dz_idx].add_mx(Manifestation(idx, name, es, fq, FINDINGS[idx].get_im()))\n",
    "            elif line[0] == 'LINK':\n",
    "                idx, name = parse_link(line)\n",
    "                DISEASES[dz_idx].add_link((idx, name))"
   ]
  },
  {
   "cell_type": "code",
   "execution_count": 42,
   "metadata": {
    "collapsed": true
   },
   "outputs": [],
   "source": [
    "# build patient object -- (+MX, -MX)\n",
    "PATIENT = Patient([], [])"
   ]
  },
  {
   "cell_type": "code",
   "execution_count": null,
   "metadata": {
    "collapsed": true
   },
   "outputs": [],
   "source": [
    "# read in patient file\n",
    "with open('./data/patient.txt', 'r') as pt_file:\n",
    "    for line in pt_file:\n",
    "        pass  # determine + or - finding; add finding to appropriate list"
   ]
  },
  {
   "cell_type": "code",
   "execution_count": 61,
   "metadata": {
    "collapsed": true
   },
   "outputs": [],
   "source": [
    "# build diagnosis hypothesis options (idx: score)\n",
    "DDX = {}"
   ]
  },
  {
   "cell_type": "code",
   "execution_count": 62,
   "metadata": {},
   "outputs": [],
   "source": [
    "# pull each possible dx_hyp from disease list (based on +MX)\n",
    "for pos_finding in PATIENT.get_positives():\n",
    "    for idx, dz in DISEASES.items():\n",
    "        if dz.has_manifestation(pos_finding):\n",
    "            DDX[idx] = None"
   ]
  },
  {
   "cell_type": "code",
   "execution_count": null,
   "metadata": {
    "collapsed": true
   },
   "outputs": [],
   "source": [
    "# calculate score for each dx_hyp"
   ]
  },
  {
   "cell_type": "code",
   "execution_count": null,
   "metadata": {
    "collapsed": true
   },
   "outputs": [],
   "source": [
    "# sort ddx[] in descending order\n",
    "DDX.sort(key=lambda x: x[1], reverse=True)"
   ]
  },
  {
   "cell_type": "code",
   "execution_count": null,
   "metadata": {
    "collapsed": true
   },
   "outputs": [],
   "source": [
    "# choose optimal ddx or return list in order"
   ]
  }
 ],
 "metadata": {
  "kernelspec": {
   "display_name": "Python 3",
   "language": "python",
   "name": "python3"
  },
  "language_info": {
   "codemirror_mode": {
    "name": "ipython",
    "version": 3
   },
   "file_extension": ".py",
   "mimetype": "text/x-python",
   "name": "python",
   "nbconvert_exporter": "python",
   "pygments_lexer": "ipython3",
   "version": "3.6.2"
  }
 },
 "nbformat": 4,
 "nbformat_minor": 2
}
