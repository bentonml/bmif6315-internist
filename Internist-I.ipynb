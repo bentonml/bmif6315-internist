{
 "cells": [
  {
   "cell_type": "code",
   "execution_count": 1,
   "metadata": {
    "collapsed": true
   },
   "outputs": [],
   "source": [
    "%matplotlib inline\n",
    "import numpy  as np \n",
    "import pandas as pd\n",
    "import matplotlib.pyplot as plt\n",
    "import copy"
   ]
  },
  {
   "cell_type": "code",
   "execution_count": 2,
   "metadata": {
    "collapsed": true
   },
   "outputs": [],
   "source": [
    "from jupyterthemes import jtplot\n",
    "jtplot.style()"
   ]
  },
  {
   "cell_type": "code",
   "execution_count": 59,
   "metadata": {
    "collapsed": true
   },
   "outputs": [],
   "source": [
    "class Disease():\n",
    "    def __init__(self, idx=-1, name='', mx=[], link=[]):\n",
    "        self.idx  = idx   # disease number\n",
    "        self.name = name  # disease name\n",
    "        self.mx   = mx    # assoc. manifestations\n",
    "        self.link = link  # linked diseases\n",
    "        \n",
    "    # get functions\n",
    "    def get_idx(self):   return self.idx\n",
    "    def get_name(self):  return self.name\n",
    "    def get_mxs(self):   return self.mx\n",
    "    def get_links(self): return self.link\n",
    "    \n",
    "    # add functions\n",
    "    def add_mx(self, new_mx):\n",
    "        self.mx.append(new_mx)\n",
    "        \n",
    "    def add_link(self, new_link):\n",
    "        self.link.append(new_link)\n",
    "        \n",
    "    # is_in functions\n",
    "    def has_manifestation(self, m):\n",
    "        return True if m in self.mx else False\n",
    "    \n",
    "    def has_link(self, l):\n",
    "        return True if l in self.link else False "
   ]
  },
  {
   "cell_type": "code",
   "execution_count": 54,
   "metadata": {
    "collapsed": true
   },
   "outputs": [],
   "source": [
    "class Manifestation():\n",
    "    def __init__(self, idx=-1, name='', es=-1, fq=-1, im=-1):\n",
    "        self.idx  = idx   # mx number\n",
    "        self.name = name  # mx name\n",
    "        self.es   = es    # evoking strength\n",
    "        self.fq   = fq    # frequency\n",
    "        self.im   = im    # import\n",
    "        \n",
    "    def __eq__(self, other):\n",
    "        return self.idx == other.idx\n",
    "    \n",
    "    def __ne__(self, other):\n",
    "        return not self == other\n",
    "    \n",
    "    def __str__(self):\n",
    "        return '{}: {} | es = {}, fq = {}, im = {}'.format(self.idx, self.name,\n",
    "                                                             self.es, self.fq, self.im)\n",
    "        \n",
    "    # nonlinear transformations\n",
    "    def trans_es(self):\n",
    "        trans = {0: 1, 1: 4, 2: 10, 3: 20, 4: 40, 5: 80}\n",
    "        return trans[self.es]\n",
    "\n",
    "    def trans_fq(self):\n",
    "        trans = {1: -1, 2: -4, 3: -7, 4: -15, 5: -30}\n",
    "        return trans[self.fq]\n",
    "\n",
    "    def trans_im(self):\n",
    "        trans = {1: -2, 2: -6, 3: -10, 4: -20, 5: -40}\n",
    "        return trans[self.im]\n",
    "        \n",
    "    # get functions\n",
    "    def get_idx(self):  return self.idx\n",
    "    def get_name(self): return self.name\n",
    "    def get_es(self):   return trans_es(self.es)\n",
    "    def get_fq(self):   return trans_fq(self.fq)\n",
    "    def get_im(self):   return trans_im(self.im)\n",
    "    \n",
    "    # set functions\n",
    "    def set_es(self, new_es):\n",
    "        self.es = new_es\n",
    "    def set_fq(self, new_fq):\n",
    "        self.fq = new_fq\n",
    "    def set_im(self, new_im):\n",
    "        self.im = new_im"
   ]
  },
  {
   "cell_type": "code",
   "execution_count": 5,
   "metadata": {
    "collapsed": true
   },
   "outputs": [],
   "source": [
    "class Patient():\n",
    "    def __init__(self, pos=[], neg=[]):\n",
    "        self.positive = pos  # + findings\n",
    "        self.negative = neg  # - findings\n",
    "        \n",
    "    # get functions\n",
    "    def get_positives(self): return self.positive\n",
    "    def get_negatives(self): return self.negative\n",
    "    \n",
    "    # add functions\n",
    "    def add_positive(self, new_pos):\n",
    "        self.positive.append(new_pos)\n",
    "        \n",
    "    def add_negative(self, new_neg):\n",
    "        self.negative.append(new_neg)"
   ]
  },
  {
   "cell_type": "code",
   "execution_count": 25,
   "metadata": {
    "collapsed": true
   },
   "outputs": [],
   "source": [
    "def parse_disease(line):\n",
    "    return line[1], ' '.join(line[2:])\n",
    "\n",
    "def parse_manifestation(line):\n",
    "    return line[2], ' '.join(line[3:]), line[1][0], line[1][1]\n",
    "\n",
    "def parse_link(line):\n",
    "    return line[3], ' '.join(line[4:])\n",
    "\n",
    "def parse_even(line):\n",
    "    return line[1], ' '.join(line[2:])\n",
    "\n",
    "def parse_odd(line):\n",
    "    return line[0], line[2]"
   ]
  },
  {
   "cell_type": "code",
   "execution_count": 56,
   "metadata": {
    "collapsed": true
   },
   "outputs": [],
   "source": [
    "FINDINGS = {}\n",
    "DISEASES = {}"
   ]
  },
  {
   "cell_type": "code",
   "execution_count": 58,
   "metadata": {
    "scrolled": false
   },
   "outputs": [],
   "source": [
    "# build master manifestations list from findings file (#, NAME, IM)\n",
    "with open('./data/findings.txt', 'r') as fd_file:\n",
    "    for i, line in enumerate(fd_file):\n",
    "        line = line.strip('\\n').split()\n",
    "        if i % 2:\n",
    "            idx, imp = parse_odd(line)\n",
    "            FINDINGS[idx].set_im(imp)\n",
    "        else:\n",
    "            idx, name = parse_even(line)\n",
    "            FINDINGS[idx] = Manifestation(idx, name)"
   ]
  },
  {
   "cell_type": "code",
   "execution_count": 60,
   "metadata": {},
   "outputs": [],
   "source": [
    "# build set of diseases (#, NAME, MX, LINKS) and update manifestations (ES and FQ)\n",
    "with open('./data/diseases.txt', 'r') as dz_file:\n",
    "    for line in dz_file:\n",
    "        if line != '\\n':\n",
    "            line = line.strip('\\n').split()\n",
    "            if line[0] == 'DX':\n",
    "                idx, name = parse_disease(line)\n",
    "            elif line[0] == 'MX':\n",
    "                idx, name, es, fq = parse_manifestation(line)\n",
    "                # update manifestation use copy.copy() to create one for each dz?\n",
    "            elif line[0] == 'LINK':\n",
    "                idx, name = parse_link(line)"
   ]
  },
  {
   "cell_type": "code",
   "execution_count": null,
   "metadata": {
    "collapsed": true
   },
   "outputs": [],
   "source": [
    "# read in patient file\n",
    "# build patient object -- (+MX, -MX)\n",
    "# pull each possible dx_hyp from disease list (based on +MX)\n",
    "# calculate score for each dx_hyp; save in ddx[]\n",
    "# sort ddx[] in descending order\n",
    "# choose optimal ddx or return list in order"
   ]
  }
 ],
 "metadata": {
  "kernelspec": {
   "display_name": "Python [default]",
   "language": "python",
   "name": "python3"
  },
  "language_info": {
   "codemirror_mode": {
    "name": "ipython",
    "version": 3
   },
   "file_extension": ".py",
   "mimetype": "text/x-python",
   "name": "python",
   "nbconvert_exporter": "python",
   "pygments_lexer": "ipython3",
   "version": "3.6.5"
  }
 },
 "nbformat": 4,
 "nbformat_minor": 2
}
