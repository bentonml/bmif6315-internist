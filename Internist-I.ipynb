{
 "cells": [
  {
   "cell_type": "code",
   "execution_count": 1,
   "metadata": {
    "collapsed": true
   },
   "outputs": [],
   "source": [
    "import re"
   ]
  },
  {
   "cell_type": "code",
   "execution_count": 2,
   "metadata": {
    "collapsed": true
   },
   "outputs": [],
   "source": [
    "class Disease():\n",
    "    def __init__(self, idx=-1, name=''):\n",
    "        self.idx  = idx   # disease number\n",
    "        self.name = name  # disease name\n",
    "        self.mx   = []    # assoc. manifestations\n",
    "        self.link = []    # linked diseases\n",
    "        \n",
    "    def __str__(self):\n",
    "        return '{}: {} | # mx = {}, # link = {}'.format(self.idx, self.name,\n",
    "                                                        len(self.mx), len(self.link))\n",
    "    # get functions\n",
    "    def get_idx(self):   return self.idx\n",
    "    def get_name(self):  return self.name\n",
    "    def get_mxs(self):   return self.mx\n",
    "    def get_links(self): return self.link\n",
    "    \n",
    "    def get_mx_idxs(self):\n",
    "        return [m.get_idx() for m in self.mx]\n",
    "\n",
    "    # print manifestations\n",
    "    def print_mxs(self):\n",
    "        return [print(mx) for mx in self.mx]\n",
    "    \n",
    "    # add functions\n",
    "    def add_mx(self, new_mx):\n",
    "        self.mx.append(new_mx)\n",
    "        \n",
    "    def add_link(self, new_link):\n",
    "        self.link.append(new_link)\n",
    "        \n",
    "    # is_in functions\n",
    "    def has_manifestation(self, pt_m):\n",
    "        for m in self.mx:\n",
    "            if m.get_idx() == pt_m: return True\n",
    "        return False\n",
    "    "
   ]
  },
  {
   "cell_type": "code",
   "execution_count": 3,
   "metadata": {
    "collapsed": true
   },
   "outputs": [],
   "source": [
    "class Manifestation():\n",
    "    def __init__(self, idx=-1, name='', es=-1, fq=-1, im=-1):\n",
    "        self.idx  = idx   # mx number\n",
    "        self.name = name  # mx name\n",
    "        self.es   = es    # evoking strength\n",
    "        self.fq   = fq    # frequency\n",
    "        self.im   = im    # import\n",
    "        \n",
    "    def __eq__(self, other):\n",
    "        return self.idx == other.idx\n",
    "    \n",
    "    def __ne__(self, other):\n",
    "        return not self == other\n",
    "    \n",
    "    def __str__(self):\n",
    "        return '{}: {} | es = {}, fq = {}, im = {}'.format(self.idx, self.name,\n",
    "                                                           self.es, self.fq, self.im)\n",
    "        \n",
    "    # get functions\n",
    "    def get_idx(self):  return self.idx\n",
    "    def get_name(self): return self.name\n",
    "    def get_es(self):   return self.es\n",
    "    def get_fq(self):   return self.fq\n",
    "    def get_im(self):   return self.im\n",
    "    \n",
    "    # nonlinear transformations\n",
    "    def get_trans_es(self):\n",
    "        trans = {'0': 1, '1': 4, '2': 10, '3': 20, '4': 40, '5': 80}\n",
    "        return trans[self.es]\n",
    "\n",
    "    def get_trans_fq(self):\n",
    "        trans = {'1': -1, '2': -4, '3': -7, '4': -15, '5': -30}\n",
    "        return trans[self.fq]\n",
    "\n",
    "    def get_trans_im(self):\n",
    "        trans = {'1': -2, '2': -6, '3': -10, '4': -20, '5': -40}\n",
    "        return trans[self.im]\n",
    "\n",
    "    # set functions\n",
    "    def set_es(self, new_es):\n",
    "        self.es = new_es\n",
    "    def set_fq(self, new_fq):\n",
    "        self.fq = new_fq\n",
    "    def set_im(self, new_im):\n",
    "        self.im = new_im"
   ]
  },
  {
   "cell_type": "code",
   "execution_count": 4,
   "metadata": {
    "collapsed": true
   },
   "outputs": [],
   "source": [
    "class Patient():\n",
    "    def __init__(self, pos=None, neg=None):\n",
    "        self.positive = pos  # + findings\n",
    "        self.negative = neg  # - findings\n",
    "    \n",
    "    # get functions\n",
    "    def get_positives(self): return self.positive\n",
    "    def get_negatives(self): return self.negative\n",
    "    \n",
    "    # add functions\n",
    "    def add_positive(self, new_pos):\n",
    "        self.positive.append(new_pos)\n",
    "        \n",
    "    def add_negative(self, new_neg):\n",
    "        self.negative.append(new_neg)"
   ]
  },
  {
   "cell_type": "code",
   "execution_count": 5,
   "metadata": {
    "collapsed": true
   },
   "outputs": [],
   "source": [
    "def parse_disease(line):\n",
    "    return line[1], ' '.join(line[2:])\n",
    "\n",
    "def parse_manifestation(line):\n",
    "    return line[2], ' '.join(line[3:]), line[1][0], line[1][1]\n",
    "\n",
    "def parse_link(line):\n",
    "    return line[3], ' '.join(line[4:])\n",
    "\n",
    "def parse_even(line):\n",
    "    return line[1], ' '.join(line[2:])\n",
    "\n",
    "def parse_odd(line):\n",
    "    return line[0], line[2]"
   ]
  },
  {
   "cell_type": "code",
   "execution_count": 6,
   "metadata": {
    "collapsed": true
   },
   "outputs": [],
   "source": [
    "def map_name_to_id(findings, mx_name):\n",
    "    mapped_idx = None\n",
    "    mx_name = re.sub('[<>]', '', mx_name)\n",
    "    for idx, mx in findings.items():\n",
    "        if mx.get_name() == mx_name.upper():\n",
    "            mapped_idx = idx\n",
    "    return mapped_idx"
   ]
  },
  {
   "cell_type": "code",
   "execution_count": 7,
   "metadata": {
    "collapsed": true
   },
   "outputs": [],
   "source": [
    "def print_final_ddx(diseases, final_ddx):\n",
    "    for dx in final_ddx:\n",
    "        print('{} (score: {})'.format(diseases[dx[0]].get_name(), dx[1]))"
   ]
  },
  {
   "cell_type": "code",
   "execution_count": 8,
   "metadata": {
    "collapsed": true
   },
   "outputs": [],
   "source": [
    "FINDINGS = {}\n",
    "DISEASES = {}"
   ]
  },
  {
   "cell_type": "code",
   "execution_count": 9,
   "metadata": {
    "collapsed": true
   },
   "outputs": [],
   "source": [
    "# build master manifestations list from findings file (#, NAME, IM)\n",
    "with open('./data/findings.txt', 'r') as fd_file:\n",
    "    for i, line in enumerate(fd_file):\n",
    "        line = line.strip('\\n').split()\n",
    "        if i % 2:\n",
    "            idx, imp = parse_odd(line)\n",
    "            FINDINGS[idx].set_im(imp)\n",
    "        else:\n",
    "            idx, name = parse_even(line)\n",
    "            FINDINGS[idx] = Manifestation(idx, name)"
   ]
  },
  {
   "cell_type": "code",
   "execution_count": 10,
   "metadata": {
    "collapsed": true
   },
   "outputs": [],
   "source": [
    "# build set of diseases (#, NAME, MX, LINKS) and update manifestations (ES and FQ)\n",
    "with open('./data/diseases.txt', 'r') as dz_file:\n",
    "    for line in dz_file:\n",
    "        if line != '\\n':\n",
    "            line = line.strip('\\n').split()\n",
    "            if line[0] == 'DX':\n",
    "                dz_idx, name = parse_disease(line)\n",
    "                DISEASES[dz_idx] = Disease(dz_idx, name)\n",
    "            elif line[0] == 'MX':\n",
    "                idx, name, es, fq = parse_manifestation(line)\n",
    "                DISEASES[dz_idx].add_mx(Manifestation(idx, name, es, fq, FINDINGS[idx].get_im()))\n",
    "            elif line[0] == 'LINK':\n",
    "                idx, name = parse_link(line)\n",
    "                DISEASES[dz_idx].add_link((idx, name))"
   ]
  },
  {
   "cell_type": "code",
   "execution_count": 11,
   "metadata": {
    "collapsed": true
   },
   "outputs": [],
   "source": [
    "# build patient object -- (+MX, -MX)\n",
    "PATIENT = Patient([], [])"
   ]
  },
  {
   "cell_type": "code",
   "execution_count": 12,
   "metadata": {},
   "outputs": [],
   "source": [
    "# read in patient file\n",
    "with open('./DX_188_GASTRIC_LYMPHOMA', 'r') as pt_file:\n",
    "    for line in pt_file:\n",
    "        line = line.strip('\\n').split()\n",
    "        if line[0] == '+':\n",
    "            mx_idx = map_name_to_id(FINDINGS, ' '.join(line[1:]))\n",
    "            PATIENT.add_positive(mx_idx)\n",
    "        elif line[0] == '-':\n",
    "            mx_idx = map_name_to_id(FINDINGS, ' '.join(line[1:]))\n",
    "            PATIENT.add_negative(mx_idx)\n",
    "        else:\n",
    "            print('Manifestations should be preceded by + or -')\n",
    "            print('Line with error: {}'.format(' '.join(line)))\n",
    "            exit(1)"
   ]
  },
  {
   "cell_type": "code",
   "execution_count": 13,
   "metadata": {
    "collapsed": true
   },
   "outputs": [],
   "source": [
    "# build diagnosis hypothesis options (idx: score)\n",
    "DDX_HYP = {}"
   ]
  },
  {
   "cell_type": "code",
   "execution_count": 14,
   "metadata": {
    "collapsed": true
   },
   "outputs": [],
   "source": [
    "# pull each possible dx_hyp from disease list (based on +MX)\n",
    "for pos_finding in PATIENT.get_positives():\n",
    "    for idx, dz in DISEASES.items():\n",
    "        if dz.has_manifestation(pos_finding):\n",
    "            DDX_HYP[idx] = None"
   ]
  },
  {
   "cell_type": "code",
   "execution_count": 15,
   "metadata": {
    "collapsed": true
   },
   "outputs": [],
   "source": [
    "# calculate score for each dx_hyp\n",
    "for idx in DDX_HYP:\n",
    "    score = 0  # set score to 0\n",
    "    for mx in DISEASES[idx].get_mxs():  # list of manifestations in disease hypothesis\n",
    "        if mx.get_idx() in PATIENT.get_positives():\n",
    "            score += mx.get_trans_es()\n",
    "        elif mx.get_idx() in PATIENT.get_negatives():\n",
    "            score += mx.get_trans_fq()\n",
    "    for pt_mx_idx in PATIENT.get_positives():  # list of manifestations in patient\n",
    "        if pt_mx_idx not in DISEASES[idx].get_mx_idxs():\n",
    "            score += FINDINGS[pt_mx_idx].get_trans_im()\n",
    "    DDX_HYP[idx] = score  # assign score"
   ]
  },
  {
   "cell_type": "code",
   "execution_count": 16,
   "metadata": {
    "collapsed": true
   },
   "outputs": [],
   "source": [
    "# sort ddx in descending order\n",
    "FINAL_DDX = sorted(DDX_HYP.items(), key=lambda x:x[1], reverse=True)"
   ]
  },
  {
   "cell_type": "code",
   "execution_count": 17,
   "metadata": {},
   "outputs": [
    {
     "name": "stdout",
     "output_type": "stream",
     "text": [
      "Set of most likely diagnoses, ranked by score:\n",
      "\n",
      "GASTRIC LYMPHOMA (score: 41)\n",
      "GASTRIC CARCINOMA (score: 34)\n",
      "GASTROINTESTINAL SARCOIDOSIS (score: 4)\n",
      "PEPTIC ULCER (score: -26)\n",
      "GASTRITIS GIANT HYPERTROPHIC <MENETRIERS> (score: -27)\n",
      "PANCREATITIS CHRONIC (score: -72)\n",
      "PANCREATITIS ACUTE (score: -96)\n",
      "ANISAKIASIS (score: -103)\n",
      "PYLORIC OBSTRUCTION (score: -107)\n",
      "CHOLEDOCHOLITHIASIS (score: -125)\n"
     ]
    }
   ],
   "source": [
    "# choose optimal ddx or return list in order\n",
    "if len(FINAL_DDX) == 0:\n",
    "    print('No diagnosis found.')\n",
    "elif len(FINAL_DDX) == 1:\n",
    "    print('Most likely diagnosis is {} with score of {}.'.format(DISEASES[FINAL_DDX[0][0]].get_name(),\n",
    "                                                                FINAL_DDX[0][1]))\n",
    "elif (FINAL_DDX[0][1] - FINAL_DDX[1][1]) >= 90:\n",
    "    print('Most likely diagnosis is {} with score of {}.'.format(DISEASES[FINAL_DDX[0][0]].get_name(),\n",
    "                                                                FINAL_DDX[0][1]))\n",
    "else:\n",
    "    print('Set of most likely diagnoses, ranked by score:\\n')\n",
    "    print_final_ddx(DISEASES, FINAL_DDX)"
   ]
  },
  {
   "cell_type": "code",
   "execution_count": null,
   "metadata": {
    "collapsed": true
   },
   "outputs": [],
   "source": []
  }
 ],
 "metadata": {
  "kernelspec": {
   "display_name": "Python [default]",
   "language": "python",
   "name": "python3"
  },
  "language_info": {
   "codemirror_mode": {
    "name": "ipython",
    "version": 3
   },
   "file_extension": ".py",
   "mimetype": "text/x-python",
   "name": "python",
   "nbconvert_exporter": "python",
   "pygments_lexer": "ipython3",
   "version": "3.6.5"
  }
 },
 "nbformat": 4,
 "nbformat_minor": 2
}
